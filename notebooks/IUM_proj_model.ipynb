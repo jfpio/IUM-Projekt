{
 "cells": [
  {
   "cell_type": "code",
   "execution_count": 116,
   "metadata": {
    "id": "xF9DBru1i-oR"
   },
   "outputs": [],
   "source": [
    "import pandas as pd\n",
    "import numpy as np\n",
    "import tensorflow as tf"
   ]
  },
  {
   "cell_type": "code",
   "execution_count": 117,
   "metadata": {
    "colab": {
     "base_uri": "https://localhost:8080/"
    },
    "id": "hqHLKDpMjQsU",
    "outputId": "79b129ec-c288-4008-9beb-2a90001db781"
   },
   "outputs": [
    {
     "data": {
      "text/plain": [
       "(6770, 7)"
      ]
     },
     "execution_count": 117,
     "metadata": {},
     "output_type": "execute_result"
    }
   ],
   "source": [
    "train_data = pd.read_csv(\"training_set.csv\")\n",
    "test_data = pd.read_csv(\"testing_set.csv\")\n",
    "train_data.shape"
   ]
  },
  {
   "cell_type": "code",
   "execution_count": 118,
   "metadata": {
    "colab": {
     "base_uri": "https://localhost:8080/",
     "height": 424
    },
    "id": "WKfzIrQUj9YQ",
    "outputId": "da9ed374-a7ef-4bfa-9029-0bdbaeb24658"
   },
   "outputs": [
    {
     "data": {
      "text/html": [
       "\n",
       "  <div id=\"df-03b86be3-0e48-4de9-8ab1-477fc0075a5b\">\n",
       "    <div class=\"colab-df-container\">\n",
       "      <div>\n",
       "<style scoped>\n",
       "    .dataframe tbody tr th:only-of-type {\n",
       "        vertical-align: middle;\n",
       "    }\n",
       "\n",
       "    .dataframe tbody tr th {\n",
       "        vertical-align: top;\n",
       "    }\n",
       "\n",
       "    .dataframe thead th {\n",
       "        text-align: right;\n",
       "    }\n",
       "</style>\n",
       "<table border=\"1\" class=\"dataframe\">\n",
       "  <thead>\n",
       "    <tr style=\"text-align: right;\">\n",
       "      <th></th>\n",
       "      <th>session_id</th>\n",
       "      <th>user_id</th>\n",
       "      <th>total_views</th>\n",
       "      <th>unique_products</th>\n",
       "      <th>time_in_minutes</th>\n",
       "      <th>ended_with_bought</th>\n",
       "      <th>user_bought_to_total_sessions_ratio</th>\n",
       "    </tr>\n",
       "  </thead>\n",
       "  <tbody>\n",
       "    <tr>\n",
       "      <th>0</th>\n",
       "      <td>125</td>\n",
       "      <td>102</td>\n",
       "      <td>2</td>\n",
       "      <td>[1283]</td>\n",
       "      <td>4</td>\n",
       "      <td>0.0</td>\n",
       "      <td>0.397260</td>\n",
       "    </tr>\n",
       "    <tr>\n",
       "      <th>1</th>\n",
       "      <td>127</td>\n",
       "      <td>102</td>\n",
       "      <td>10</td>\n",
       "      <td>[1048 1049 1050 1051 1052 1053 1054 1055 1056 ...</td>\n",
       "      <td>19</td>\n",
       "      <td>0.0</td>\n",
       "      <td>0.397260</td>\n",
       "    </tr>\n",
       "    <tr>\n",
       "      <th>2</th>\n",
       "      <td>128</td>\n",
       "      <td>102</td>\n",
       "      <td>2</td>\n",
       "      <td>[1278 1281]</td>\n",
       "      <td>1</td>\n",
       "      <td>1.0</td>\n",
       "      <td>0.397260</td>\n",
       "    </tr>\n",
       "    <tr>\n",
       "      <th>3</th>\n",
       "      <td>129</td>\n",
       "      <td>102</td>\n",
       "      <td>2</td>\n",
       "      <td>[1278 1281]</td>\n",
       "      <td>0</td>\n",
       "      <td>0.0</td>\n",
       "      <td>0.397260</td>\n",
       "    </tr>\n",
       "    <tr>\n",
       "      <th>4</th>\n",
       "      <td>130</td>\n",
       "      <td>102</td>\n",
       "      <td>9</td>\n",
       "      <td>[1002 1003 1075 1076 1077 1078 1079 1080 1081]</td>\n",
       "      <td>23</td>\n",
       "      <td>0.0</td>\n",
       "      <td>0.397260</td>\n",
       "    </tr>\n",
       "    <tr>\n",
       "      <th>...</th>\n",
       "      <td>...</td>\n",
       "      <td>...</td>\n",
       "      <td>...</td>\n",
       "      <td>...</td>\n",
       "      <td>...</td>\n",
       "      <td>...</td>\n",
       "      <td>...</td>\n",
       "    </tr>\n",
       "    <tr>\n",
       "      <th>6765</th>\n",
       "      <td>9785</td>\n",
       "      <td>301</td>\n",
       "      <td>10</td>\n",
       "      <td>[1004 1005 1006 1007 1008 1009 1010 1011 1012 ...</td>\n",
       "      <td>26</td>\n",
       "      <td>1.0</td>\n",
       "      <td>0.348837</td>\n",
       "    </tr>\n",
       "    <tr>\n",
       "      <th>6766</th>\n",
       "      <td>9786</td>\n",
       "      <td>301</td>\n",
       "      <td>4</td>\n",
       "      <td>[1315 1316 1317 1319]</td>\n",
       "      <td>9</td>\n",
       "      <td>1.0</td>\n",
       "      <td>0.348837</td>\n",
       "    </tr>\n",
       "    <tr>\n",
       "      <th>6767</th>\n",
       "      <td>9788</td>\n",
       "      <td>301</td>\n",
       "      <td>2</td>\n",
       "      <td>[1233 1234]</td>\n",
       "      <td>1</td>\n",
       "      <td>0.0</td>\n",
       "      <td>0.348837</td>\n",
       "    </tr>\n",
       "    <tr>\n",
       "      <th>6768</th>\n",
       "      <td>9791</td>\n",
       "      <td>301</td>\n",
       "      <td>9</td>\n",
       "      <td>[1040 1041 1042 1043 1044 1045 1046 1047 1084]</td>\n",
       "      <td>22</td>\n",
       "      <td>1.0</td>\n",
       "      <td>0.348837</td>\n",
       "    </tr>\n",
       "    <tr>\n",
       "      <th>6769</th>\n",
       "      <td>9792</td>\n",
       "      <td>301</td>\n",
       "      <td>2</td>\n",
       "      <td>[1276 1277]</td>\n",
       "      <td>6</td>\n",
       "      <td>1.0</td>\n",
       "      <td>0.348837</td>\n",
       "    </tr>\n",
       "  </tbody>\n",
       "</table>\n",
       "<p>6770 rows × 7 columns</p>\n",
       "</div>\n",
       "      <button class=\"colab-df-convert\" onclick=\"convertToInteractive('df-03b86be3-0e48-4de9-8ab1-477fc0075a5b')\"\n",
       "              title=\"Convert this dataframe to an interactive table.\"\n",
       "              style=\"display:none;\">\n",
       "        \n",
       "  <svg xmlns=\"http://www.w3.org/2000/svg\" height=\"24px\"viewBox=\"0 0 24 24\"\n",
       "       width=\"24px\">\n",
       "    <path d=\"M0 0h24v24H0V0z\" fill=\"none\"/>\n",
       "    <path d=\"M18.56 5.44l.94 2.06.94-2.06 2.06-.94-2.06-.94-.94-2.06-.94 2.06-2.06.94zm-11 1L8.5 8.5l.94-2.06 2.06-.94-2.06-.94L8.5 2.5l-.94 2.06-2.06.94zm10 10l.94 2.06.94-2.06 2.06-.94-2.06-.94-.94-2.06-.94 2.06-2.06.94z\"/><path d=\"M17.41 7.96l-1.37-1.37c-.4-.4-.92-.59-1.43-.59-.52 0-1.04.2-1.43.59L10.3 9.45l-7.72 7.72c-.78.78-.78 2.05 0 2.83L4 21.41c.39.39.9.59 1.41.59.51 0 1.02-.2 1.41-.59l7.78-7.78 2.81-2.81c.8-.78.8-2.07 0-2.86zM5.41 20L4 18.59l7.72-7.72 1.47 1.35L5.41 20z\"/>\n",
       "  </svg>\n",
       "      </button>\n",
       "      \n",
       "  <style>\n",
       "    .colab-df-container {\n",
       "      display:flex;\n",
       "      flex-wrap:wrap;\n",
       "      gap: 12px;\n",
       "    }\n",
       "\n",
       "    .colab-df-convert {\n",
       "      background-color: #E8F0FE;\n",
       "      border: none;\n",
       "      border-radius: 50%;\n",
       "      cursor: pointer;\n",
       "      display: none;\n",
       "      fill: #1967D2;\n",
       "      height: 32px;\n",
       "      padding: 0 0 0 0;\n",
       "      width: 32px;\n",
       "    }\n",
       "\n",
       "    .colab-df-convert:hover {\n",
       "      background-color: #E2EBFA;\n",
       "      box-shadow: 0px 1px 2px rgba(60, 64, 67, 0.3), 0px 1px 3px 1px rgba(60, 64, 67, 0.15);\n",
       "      fill: #174EA6;\n",
       "    }\n",
       "\n",
       "    [theme=dark] .colab-df-convert {\n",
       "      background-color: #3B4455;\n",
       "      fill: #D2E3FC;\n",
       "    }\n",
       "\n",
       "    [theme=dark] .colab-df-convert:hover {\n",
       "      background-color: #434B5C;\n",
       "      box-shadow: 0px 1px 3px 1px rgba(0, 0, 0, 0.15);\n",
       "      filter: drop-shadow(0px 1px 2px rgba(0, 0, 0, 0.3));\n",
       "      fill: #FFFFFF;\n",
       "    }\n",
       "  </style>\n",
       "\n",
       "      <script>\n",
       "        const buttonEl =\n",
       "          document.querySelector('#df-03b86be3-0e48-4de9-8ab1-477fc0075a5b button.colab-df-convert');\n",
       "        buttonEl.style.display =\n",
       "          google.colab.kernel.accessAllowed ? 'block' : 'none';\n",
       "\n",
       "        async function convertToInteractive(key) {\n",
       "          const element = document.querySelector('#df-03b86be3-0e48-4de9-8ab1-477fc0075a5b');\n",
       "          const dataTable =\n",
       "            await google.colab.kernel.invokeFunction('convertToInteractive',\n",
       "                                                     [key], {});\n",
       "          if (!dataTable) return;\n",
       "\n",
       "          const docLinkHtml = 'Like what you see? Visit the ' +\n",
       "            '<a target=\"_blank\" href=https://colab.research.google.com/notebooks/data_table.ipynb>data table notebook</a>'\n",
       "            + ' to learn more about interactive tables.';\n",
       "          element.innerHTML = '';\n",
       "          dataTable['output_type'] = 'display_data';\n",
       "          await google.colab.output.renderOutput(dataTable, element);\n",
       "          const docLink = document.createElement('div');\n",
       "          docLink.innerHTML = docLinkHtml;\n",
       "          element.appendChild(docLink);\n",
       "        }\n",
       "      </script>\n",
       "    </div>\n",
       "  </div>\n",
       "  "
      ],
      "text/plain": [
       "      session_id  ...  user_bought_to_total_sessions_ratio\n",
       "0            125  ...                             0.397260\n",
       "1            127  ...                             0.397260\n",
       "2            128  ...                             0.397260\n",
       "3            129  ...                             0.397260\n",
       "4            130  ...                             0.397260\n",
       "...          ...  ...                                  ...\n",
       "6765        9785  ...                             0.348837\n",
       "6766        9786  ...                             0.348837\n",
       "6767        9788  ...                             0.348837\n",
       "6768        9791  ...                             0.348837\n",
       "6769        9792  ...                             0.348837\n",
       "\n",
       "[6770 rows x 7 columns]"
      ]
     },
     "execution_count": 118,
     "metadata": {},
     "output_type": "execute_result"
    }
   ],
   "source": [
    "train_data"
   ]
  },
  {
   "cell_type": "markdown",
   "metadata": {
    "id": "D_xSbQubvcsU"
   },
   "source": [
    "TRAIN DATA"
   ]
  },
  {
   "cell_type": "code",
   "execution_count": 119,
   "metadata": {
    "id": "kFnEIBvNlP-x"
   },
   "outputs": [],
   "source": [
    "train_session_number = train_data['total_views']\n",
    "train_session_length = train_data['time_in_minutes']\n",
    "train_unique_products = train_data['unique_products']\n",
    "train_unique_products_count = train_unique_products.str.count('\\w+')\n",
    "train_bought_number = train_data['user_bought_to_total_sessions_ratio']\n",
    "train_labels = train_data['ended_with_bought']"
   ]
  },
  {
   "cell_type": "code",
   "execution_count": 120,
   "metadata": {
    "colab": {
     "base_uri": "https://localhost:8080/"
    },
    "id": "9Kgct6xEqLqZ",
    "outputId": "538195a0-7bcb-4e96-db45-169c88c47d6f"
   },
   "outputs": [
    {
     "data": {
      "text/plain": [
       "array([0., 0., 1., ..., 0., 1., 1.])"
      ]
     },
     "execution_count": 120,
     "metadata": {},
     "output_type": "execute_result"
    }
   ],
   "source": [
    "train_session_number.to_numpy()\n",
    "train_session_length.to_numpy()\n",
    "train_unique_products_count.to_numpy()\n",
    "train_bought_number.to_numpy()\n",
    "train_labels.to_numpy()"
   ]
  },
  {
   "cell_type": "code",
   "execution_count": 121,
   "metadata": {
    "colab": {
     "base_uri": "https://localhost:8080/"
    },
    "id": "08T8GzqnqdV0",
    "outputId": "370faf40-a047-443b-e230-61d5a41862eb"
   },
   "outputs": [
    {
     "data": {
      "text/plain": [
       "0       0.0\n",
       "1       0.0\n",
       "2       1.0\n",
       "3       0.0\n",
       "4       0.0\n",
       "       ... \n",
       "6765    1.0\n",
       "6766    1.0\n",
       "6767    0.0\n",
       "6768    1.0\n",
       "6769    1.0\n",
       "Name: ended_with_bought, Length: 6770, dtype: float64"
      ]
     },
     "execution_count": 121,
     "metadata": {},
     "output_type": "execute_result"
    }
   ],
   "source": [
    "train_labels"
   ]
  },
  {
   "cell_type": "code",
   "execution_count": 122,
   "metadata": {
    "id": "9IVMyb_cmTsv"
   },
   "outputs": [],
   "source": [
    "train_data_processed = np.column_stack((train_session_number, train_session_length, train_unique_products_count, train_bought_number))"
   ]
  },
  {
   "cell_type": "code",
   "execution_count": 123,
   "metadata": {
    "colab": {
     "base_uri": "https://localhost:8080/"
    },
    "id": "MVQNqIajqriG",
    "outputId": "a3ba5d5a-b314-45c1-aa71-3b92e02a309c"
   },
   "outputs": [
    {
     "data": {
      "text/plain": [
       "array([ 9.        , 22.        ,  9.        ,  0.34883721])"
      ]
     },
     "execution_count": 123,
     "metadata": {},
     "output_type": "execute_result"
    }
   ],
   "source": [
    "train_data_processed[6768]"
   ]
  },
  {
   "cell_type": "markdown",
   "metadata": {
    "id": "dxvzLe4lvhU7"
   },
   "source": [
    "TEST DATA"
   ]
  },
  {
   "cell_type": "code",
   "execution_count": 124,
   "metadata": {
    "id": "dPEa9HMyvjFo"
   },
   "outputs": [],
   "source": [
    "test_session_number = test_data['total_views']\n",
    "test_session_length = test_data['time_in_minutes']\n",
    "test_unique_products = test_data['unique_products']\n",
    "test_unique_products_count = test_unique_products.str.count('\\w+')\n",
    "test_bought_number = test_data['user_bought_to_total_sessions_ratio']\n",
    "test_labels = test_data['ended_with_bought']\n",
    "\n",
    "test_session_number.to_numpy()\n",
    "test_session_length.to_numpy()\n",
    "test_unique_products_count.to_numpy()\n",
    "test_bought_number.to_numpy()\n",
    "test_labels.to_numpy()\n",
    "\n",
    "test_data_processed = np.column_stack((test_session_number, test_session_length, test_unique_products_count, test_bought_number))"
   ]
  },
  {
   "cell_type": "code",
   "execution_count": 125,
   "metadata": {
    "id": "WEVPAOx8rQdZ"
   },
   "outputs": [],
   "source": [
    "model = tf.keras.models.Sequential([\n",
    "    tf.keras.layers.Flatten(input_dim=4),\n",
    "    tf.keras.layers.Dense(10, activation='tanh'),\n",
    "    tf.keras.layers.Dropout(0.1),\n",
    "    tf.keras.layers.Dense(12, activation='relu'),\n",
    "    tf.keras.layers.Dropout(0.2),\n",
    "    tf.keras.layers.Dense(6, activation='relu'),\n",
    "    tf.keras.layers.Dense(1, activation='sigmoid')\n",
    "])\n",
    "\n",
    "model.compile(\n",
    "    optimizer = 'adam',\n",
    "    loss = tf.keras.losses.BinaryCrossentropy(from_logits=False),\n",
    "    metrics=['accuracy']\n",
    ")"
   ]
  },
  {
   "cell_type": "code",
   "execution_count": 126,
   "metadata": {
    "colab": {
     "base_uri": "https://localhost:8080/"
    },
    "id": "GoOTVe7irUWq",
    "outputId": "06fcc4f1-14e2-4bf1-876d-5d7119b63177"
   },
   "outputs": [
    {
     "name": "stdout",
     "output_type": "stream",
     "text": [
      "Epoch 1/10\n",
      "212/212 [==============================] - 1s 2ms/step - loss: 0.6436 - accuracy: 0.6386\n",
      "Epoch 2/10\n",
      "212/212 [==============================] - 0s 2ms/step - loss: 0.5918 - accuracy: 0.6857\n",
      "Epoch 3/10\n",
      "212/212 [==============================] - 0s 2ms/step - loss: 0.5704 - accuracy: 0.6963\n",
      "Epoch 4/10\n",
      "212/212 [==============================] - 0s 2ms/step - loss: 0.5611 - accuracy: 0.7000\n",
      "Epoch 5/10\n",
      "212/212 [==============================] - 0s 2ms/step - loss: 0.5527 - accuracy: 0.7031\n",
      "Epoch 6/10\n",
      "212/212 [==============================] - 0s 2ms/step - loss: 0.5477 - accuracy: 0.7052\n",
      "Epoch 7/10\n",
      "212/212 [==============================] - 0s 2ms/step - loss: 0.5458 - accuracy: 0.6981\n",
      "Epoch 8/10\n",
      "212/212 [==============================] - 0s 2ms/step - loss: 0.5417 - accuracy: 0.7035\n",
      "Epoch 9/10\n",
      "212/212 [==============================] - 0s 2ms/step - loss: 0.5390 - accuracy: 0.7072\n",
      "Epoch 10/10\n",
      "212/212 [==============================] - 0s 2ms/step - loss: 0.5370 - accuracy: 0.7061\n"
     ]
    },
    {
     "data": {
      "text/plain": [
       "<keras.callbacks.History at 0x7f1be2462490>"
      ]
     },
     "execution_count": 126,
     "metadata": {},
     "output_type": "execute_result"
    }
   ],
   "source": [
    "model.fit(train_data_processed, train_labels, epochs=10)"
   ]
  },
  {
   "cell_type": "code",
   "execution_count": 127,
   "metadata": {
    "colab": {
     "base_uri": "https://localhost:8080/"
    },
    "id": "4jft4D0CrWbm",
    "outputId": "fad5f292-0e70-4207-db20-28af722ef7b4"
   },
   "outputs": [
    {
     "name": "stdout",
     "output_type": "stream",
     "text": [
      "91/91 - 0s - loss: 0.5155 - accuracy: 0.7270 - 241ms/epoch - 3ms/step\n"
     ]
    },
    {
     "data": {
      "text/plain": [
       "[0.515529990196228, 0.7269906997680664]"
      ]
     },
     "execution_count": 127,
     "metadata": {},
     "output_type": "execute_result"
    }
   ],
   "source": [
    "model.evaluate(test_data_processed, test_labels, verbose=2)"
   ]
  }
 ],
 "metadata": {
  "colab": {
   "collapsed_sections": [],
   "name": "IUM_proj_model.ipynb",
   "provenance": []
  },
  "kernelspec": {
   "display_name": "Python 3 (ipykernel)",
   "language": "python",
   "name": "python3"
  },
  "language_info": {
   "codemirror_mode": {
    "name": "ipython",
    "version": 3
   },
   "file_extension": ".py",
   "mimetype": "text/x-python",
   "name": "python",
   "nbconvert_exporter": "python",
   "pygments_lexer": "ipython3",
   "version": "3.8.10"
  }
 },
 "nbformat": 4,
 "nbformat_minor": 1
}